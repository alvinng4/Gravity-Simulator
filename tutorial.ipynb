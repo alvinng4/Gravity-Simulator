{
 "cells": [
  {
   "cell_type": "markdown",
   "metadata": {},
   "source": [
    "### Tutorial\n",
    "A simple tutorial for using the gravity simulator library."
   ]
  },
  {
   "cell_type": "markdown",
   "metadata": {},
   "source": [
    "### Import libraries"
   ]
  },
  {
   "cell_type": "code",
   "execution_count": null,
   "metadata": {},
   "outputs": [],
   "source": [
    "import numpy as np\n",
    "\n",
    "import gravity_sim\n",
    "\n",
    "grav_sim = gravity_sim.GravitySimulator()\n",
    "print(grav_sim.DEFAULT_SYSTEMS)\n",
    "print(grav_sim.AVAILABLE_INTEGRATORS)"
   ]
  },
  {
   "cell_type": "markdown",
   "metadata": {},
   "source": [
    "### Load pre-defined system"
   ]
  },
  {
   "cell_type": "code",
   "execution_count": null,
   "metadata": {},
   "outputs": [],
   "source": [
    "system = grav_sim.create_system()\n",
    "system.load(\"solar_system\")"
   ]
  },
  {
   "cell_type": "markdown",
   "metadata": {},
   "source": [
    "### Adding new objects\n",
    "Note that the default units are solar masses, AU and days"
   ]
  },
  {
   "cell_type": "code",
   "execution_count": null,
   "metadata": {},
   "outputs": [],
   "source": [
    "x = np.array([-8.092549658731499e-02, 2.558381434460076e00, -6.695836142398572e-02])\n",
    "v = np.array(\n",
    "    [\n",
    "        -1.017876585480054e-02,\n",
    "        -5.452367109338154e-04,\n",
    "        1.255870551153315e-03,\n",
    "    ]\n",
    ")\n",
    "m = 1.30268459e-10\n",
    "system.add(x, v, m, objects_name=\"New object\")\n",
    "\n",
    "system.center_of_mass_correction()"
   ]
  },
  {
   "cell_type": "markdown",
   "metadata": {},
   "source": [
    "### Save new system"
   ]
  },
  {
   "cell_type": "code",
   "execution_count": null,
   "metadata": {},
   "outputs": [],
   "source": [
    "system.save(\"Tutorial\")\n",
    "\n",
    "# You can also load a customized system stored in customized_systems.csv\n",
    "# system.load(\"Tutorial\")"
   ]
  },
  {
   "cell_type": "markdown",
   "metadata": {},
   "source": [
    "### Plotting initial conditions"
   ]
  },
  {
   "cell_type": "code",
   "execution_count": null,
   "metadata": {},
   "outputs": [],
   "source": [
    "system.plot_3d_system()"
   ]
  },
  {
   "cell_type": "markdown",
   "metadata": {},
   "source": [
    "### Launching simulation"
   ]
  },
  {
   "cell_type": "code",
   "execution_count": null,
   "metadata": {},
   "outputs": [],
   "source": [
    "grav_sim.simulator.launch_simulation(\n",
    "    system,\n",
    "    integrator=\"leapfrog\",\n",
    "    tf=grav_sim.years_to_days(1000.0),\n",
    "    dt=grav_sim.years_to_days(0.0001),\n",
    "    store_every_n=5000,\n",
    ")"
   ]
  },
  {
   "cell_type": "code",
   "execution_count": null,
   "metadata": {},
   "outputs": [],
   "source": [
    "print(f\"Data size = {len(grav_sim.simulator.sol_time)}\")"
   ]
  },
  {
   "cell_type": "markdown",
   "metadata": {},
   "source": [
    "### Plotting trajectories"
   ]
  },
  {
   "cell_type": "code",
   "execution_count": null,
   "metadata": {},
   "outputs": [],
   "source": [
    "gravity_sim.plotting.plot_2d_trajectory(\n",
    "    grav_sim.simulator.objects_count,\n",
    "    grav_sim.simulator.sol_state,\n",
    "    colors=[\n",
    "        \"orange\",\n",
    "        \"slategrey\",\n",
    "        \"wheat\",\n",
    "        \"skyblue\",\n",
    "        \"red\",\n",
    "        \"darkgoldenrod\",\n",
    "        \"gold\",\n",
    "        \"paleturquoise\",\n",
    "        \"blue\",\n",
    "        None,\n",
    "    ],\n",
    "    labels=system.objects_names,\n",
    "    legend=True,\n",
    ")"
   ]
  },
  {
   "cell_type": "markdown",
   "metadata": {},
   "source": [
    "### Animations"
   ]
  },
  {
   "cell_type": "code",
   "execution_count": null,
   "metadata": {},
   "outputs": [],
   "source": [
    "gravity_sim.plotting.animate_3d_traj_gif(\n",
    "    grav_sim.simulator.objects_count,\n",
    "    grav_sim.simulator.sol_state,\n",
    "    is_maintain_fixed_dt=False,\n",
    "    fps=30,\n",
    "    dpi=200,\n",
    "    plot_every_nth_point=5,\n",
    "    colors=[\n",
    "        \"orange\",\n",
    "        \"slategrey\",\n",
    "        \"wheat\",\n",
    "        \"skyblue\",\n",
    "        \"red\",\n",
    "        \"darkgoldenrod\",\n",
    "        \"gold\",\n",
    "        \"paleturquoise\",\n",
    "        \"blue\",\n",
    "        None,\n",
    "    ],\n",
    "    labels=system.objects_names,\n",
    "    legend=True,\n",
    "    file_name=\"tutorial.gif\",\n",
    "    # sol_time=grav_sim.simulator.sol_time,   # Needed if is_maintain_fixed_dt = True, which is True by default\n",
    ")"
   ]
  },
  {
   "cell_type": "markdown",
   "metadata": {},
   "source": [
    "### Save results"
   ]
  },
  {
   "cell_type": "code",
   "execution_count": null,
   "metadata": {},
   "outputs": [],
   "source": [
    "grav_sim.save_results(system.name)"
   ]
  },
  {
   "cell_type": "markdown",
   "metadata": {},
   "source": [
    "### Convert sol_state to system\n",
    "Sometimes you may want to split the simulations into multiple sessions. By calling `grav_sim.sol_state_to_system()`, you can convert the latest sol_state in a session to a new system.\n",
    "\n",
    "However, note that the $dt$ from adaptive step size integrators may change due to this."
   ]
  },
  {
   "cell_type": "code",
   "execution_count": null,
   "metadata": {},
   "outputs": [],
   "source": [
    "new_system = grav_sim.sol_state_to_system(\n",
    "    system_name=system.name, objects_names=system.objects_names\n",
    ")\n",
    "\n",
    "new_system.plot_3d_system()"
   ]
  }
 ],
 "metadata": {
  "kernelspec": {
   "display_name": "Python 3",
   "language": "python",
   "name": "python3"
  },
  "language_info": {
   "codemirror_mode": {
    "name": "ipython",
    "version": 3
   },
   "file_extension": ".py",
   "mimetype": "text/x-python",
   "name": "python",
   "nbconvert_exporter": "python",
   "pygments_lexer": "ipython3",
   "version": "3.11.4"
  }
 },
 "nbformat": 4,
 "nbformat_minor": 2
}
