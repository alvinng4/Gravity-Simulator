{
 "cells": [
  {
   "cell_type": "markdown",
   "metadata": {},
   "source": [
    "### Tutorial\n",
    "A simple tutorial for using the gravity simulator library. This file also serves as documentation."
   ]
  },
  {
   "cell_type": "markdown",
   "metadata": {},
   "source": [
    "### Import libraries\n",
    "First, we import some libraries. If the path is wrong, please correct it manually."
   ]
  },
  {
   "cell_type": "code",
   "execution_count": null,
   "metadata": {},
   "outputs": [],
   "source": [
    "import sys\n",
    "from pathlib import Path\n",
    "\n",
    "parent_path = str(Path.cwd().parent)\n",
    "sys.path.append(parent_path)\n",
    "print(f\"Appended path: \\\"{parent_path}\\\"\")\n",
    "\n",
    "import numpy as np\n",
    "\n",
    "from gravity_sim import GravitySimulator\n",
    "\n",
    "grav_sim = GravitySimulator()\n",
    "grav_sim.integration_mode = \"c_lib\"  # Default is \"c_lib\", but you can set it to \"numpy\"\n",
    "print()\n",
    "print(grav_sim.DEFAULT_SYSTEMS)\n",
    "print(grav_sim.AVAILABLE_INTEGRATORS)"
   ]
  },
  {
   "cell_type": "markdown",
   "metadata": {},
   "source": [
    "### Load pre-defined system"
   ]
  },
  {
   "cell_type": "code",
   "execution_count": null,
   "metadata": {},
   "outputs": [],
   "source": [
    "system = grav_sim.create_system()\n",
    "grav_sim.set_current_system(system)\n",
    "system.load(\"solar_system\")"
   ]
  },
  {
   "cell_type": "markdown",
   "metadata": {},
   "source": [
    "### Adding new objects\n",
    "Note that the default units are solar masses, AU and days"
   ]
  },
  {
   "cell_type": "code",
   "execution_count": null,
   "metadata": {},
   "outputs": [],
   "source": [
    "x = np.array([-8.092549658731499e-02, 2.558381434460076e00, -6.695836142398572e-02])\n",
    "v = np.array(\n",
    "    [\n",
    "        -1.017876585480054e-02,\n",
    "        -5.452367109338154e-04,\n",
    "        1.255870551153315e-03,\n",
    "    ]\n",
    ")\n",
    "m = 1.30268459e-10\n",
    "system.add(x, v, m, object_name=\"New object 1\")\n",
    "\n",
    "system.add_keplerian(\n",
    "    semi_major_axis=4.2,\n",
    "    eccentricity=0.1,\n",
    "    inclination=0.1,\n",
    "    longitude_of_ascending_node=1.0,\n",
    "    argument_of_periapsis=1.0,\n",
    "    true_anomaly=1.0,\n",
    "    m=1.5e-9,\n",
    "    primary_object_name=\"Sun\",\n",
    "    object_name=\"New object 2\",\n",
    ")\n",
    "\n",
    "system.center_of_mass_correction()"
   ]
  },
  {
   "cell_type": "markdown",
   "metadata": {},
   "source": [
    "### Save system"
   ]
  },
  {
   "cell_type": "code",
   "execution_count": null,
   "metadata": {},
   "outputs": [],
   "source": [
    "system.save(\"Tutorial\")\n",
    "\n",
    "# You can also load a customized system stored in customized_systems.csv\n",
    "# system.load(\"Tutorial\")"
   ]
  },
  {
   "cell_type": "markdown",
   "metadata": {},
   "source": [
    "### Plotting initial conditions"
   ]
  },
  {
   "cell_type": "code",
   "execution_count": null,
   "metadata": {},
   "outputs": [],
   "source": [
    "system.plot_3d_system(\n",
    "    labels=system.objects_names,\n",
    "    legend=True,\n",
    ")"
   ]
  },
  {
   "cell_type": "markdown",
   "metadata": {},
   "source": [
    "### Launching simulation"
   ]
  },
  {
   "cell_type": "code",
   "execution_count": null,
   "metadata": {},
   "outputs": [],
   "source": [
    "grav_sim.launch_simulation(\n",
    "    integrator=\"leapfrog\",\n",
    "    tf=grav_sim.years_to_days(1000.0),\n",
    "    dt=grav_sim.years_to_days(0.001),\n",
    "    store_every_n=500,\n",
    "    acceleration=\"pairwise\",  # \"pairwise\" is the default value. Set it to \"massless\" if you have massless particles\n",
    ")"
   ]
  },
  {
   "cell_type": "code",
   "execution_count": null,
   "metadata": {},
   "outputs": [],
   "source": [
    "print(f\"Data size = {grav_sim.data_size}\")"
   ]
  },
  {
   "cell_type": "markdown",
   "metadata": {},
   "source": [
    "### Plotting trajectories"
   ]
  },
  {
   "cell_type": "code",
   "execution_count": null,
   "metadata": {},
   "outputs": [],
   "source": [
    "grav_sim.plot_2d_trajectory(\n",
    "    colors=[\n",
    "        \"orange\",\n",
    "        \"slategrey\",\n",
    "        \"wheat\",\n",
    "        \"skyblue\",\n",
    "        \"red\",\n",
    "        \"darkgoldenrod\",\n",
    "        \"gold\",\n",
    "        \"paleturquoise\",\n",
    "        \"blue\",\n",
    "        None,\n",
    "        None,\n",
    "    ],\n",
    "    labels=system.objects_names,\n",
    "    legend=True,\n",
    ")"
   ]
  },
  {
   "cell_type": "markdown",
   "metadata": {},
   "source": [
    "### More plots"
   ]
  },
  {
   "cell_type": "code",
   "execution_count": null,
   "metadata": {},
   "outputs": [],
   "source": [
    "# grav_sim.compute_energy()\n",
    "grav_sim.plot_rel_energy(\n",
    "    sol_time=grav_sim.days_to_years(grav_sim.sol_time), xlabel=\"Time (years)\"\n",
    ")"
   ]
  },
  {
   "cell_type": "code",
   "execution_count": null,
   "metadata": {},
   "outputs": [],
   "source": [
    "# grav_sim.compute_angular_momentum()\n",
    "grav_sim.plot_rel_angular_momentum(\n",
    "    sol_time=grav_sim.days_to_years(grav_sim.sol_time), xlabel=\"Time (years)\"\n",
    ")"
   ]
  },
  {
   "cell_type": "code",
   "execution_count": null,
   "metadata": {},
   "outputs": [],
   "source": [
    "grav_sim.plot_dt(\n",
    "    sol_time=grav_sim.days_to_years(grav_sim.sol_time), xlabel=\"Time (years)\"\n",
    ")"
   ]
  },
  {
   "cell_type": "markdown",
   "metadata": {},
   "source": [
    "### Animations"
   ]
  },
  {
   "cell_type": "code",
   "execution_count": null,
   "metadata": {},
   "outputs": [],
   "source": [
    "grav_sim.animate_3d_traj_gif(\n",
    "    is_maintain_fixed_dt=False,\n",
    "    fps=30,\n",
    "    dpi=200,\n",
    "    plot_every_nth_point=5,\n",
    "    colors=[\n",
    "        \"orange\",\n",
    "        \"slategrey\",\n",
    "        \"wheat\",\n",
    "        \"skyblue\",\n",
    "        \"red\",\n",
    "        \"darkgoldenrod\",\n",
    "        \"gold\",\n",
    "        \"paleturquoise\",\n",
    "        \"blue\",\n",
    "        None,\n",
    "        None,\n",
    "    ],\n",
    "    labels=system.objects_names,\n",
    "    legend=True,\n",
    "    traj_len=50,\n",
    "    file_name=\"tutorial.gif\",\n",
    ")"
   ]
  },
  {
   "cell_type": "markdown",
   "metadata": {},
   "source": [
    "### Save and reading results"
   ]
  },
  {
   "cell_type": "code",
   "execution_count": null,
   "metadata": {},
   "outputs": [],
   "source": [
    "grav_sim.save_results()\n",
    "\n",
    "# grav_sim.load_results(file_path=\"Your_file_path.csv\")"
   ]
  },
  {
   "cell_type": "markdown",
   "metadata": {},
   "source": [
    "### Splitting simulations into multiple sessions\n",
    "After simulation, you can call `grav_sim.simulator_to_system()` to convert the latest state to a new system.\n",
    "\n",
    "Similarly, by calling `grav_sim.sol_state_to_system()`, you can convert the a state in the solution to a new system.\n",
    "\n",
    "However, note that the $\\text{d} t$ from adaptive step size integrators may change due to this."
   ]
  },
  {
   "cell_type": "code",
   "execution_count": null,
   "metadata": {},
   "outputs": [],
   "source": [
    "new_system1 = grav_sim.simulator_to_system()\n",
    "new_system1.plot_3d_system()\n",
    "\n",
    "new_system2 = grav_sim.sol_state_to_system(index=-1)\n",
    "new_system2.plot_3d_system()"
   ]
  },
  {
   "cell_type": "markdown",
   "metadata": {},
   "source": [
    "### Adaptive step size integrators\n",
    "\n",
    "When using adaptive step size integrators, we provide tolerance rather than $\\text{d}t$ to control the step size.\n",
    "| Adaptive step size integrators | Recommended tolerance* |\n",
    "|:-----------|:-------------|\n",
    "| Runge–Kutta–Fehlberg 4(5) | $10^{-8}$ to $10^{-14}$ |\n",
    "| Dormand–Prince method (DOPRI) 5(4) | $10^{-8}$ to $10^{-14}$ |\n",
    "| Verner's method (DVERK) 6(5) | $10^{-8}$ to $10^{-14}$ |\n",
    "| Runge–Kutta–Fehlberg 7(8) | $10^{-4}$ to $10^{-8}$ |\n",
    "| IAS15 | $10^{-9}$ |\n",
    "\n",
    "*For reference only\n",
    "\n",
    "Using pyth-3-body, a highly chaotic system, we can easily see the difference between adaptive step size integrators and fixed step size integrators.\n",
    "\n",
    "For RK4, the largest $\\text{d}t$ we can use for this system is 2e-8."
   ]
  },
  {
   "cell_type": "code",
   "execution_count": null,
   "metadata": {},
   "outputs": [],
   "source": [
    "IAS15_system = grav_sim.create_system()\n",
    "grav_sim.set_current_system(IAS15_system)\n",
    "IAS15_system.load(\"pyth-3-body\")\n",
    "\n",
    "print(\"IAS15:\")\n",
    "grav_sim.launch_simulation(\n",
    "    integrator=\"IAS15\",\n",
    "    tf=70.0,\n",
    "    tolerance=1e-9,\n",
    ")\n",
    "\n",
    "grav_sim.plot_2d_trajectory()\n",
    "grav_sim.plot_dt()\n",
    "\n",
    "print(\"RK4:\")\n",
    "grav_sim.launch_simulation(\n",
    "    integrator=\"rk4\",\n",
    "    tf=70.0,\n",
    "    dt=1e-5,\n",
    "    store_every_n=10000,\n",
    ")\n",
    "\n",
    "grav_sim.plot_2d_trajectory()\n",
    "grav_sim.plot_dt()"
   ]
  },
  {
   "cell_type": "markdown",
   "metadata": {},
   "source": [
    "### WHFast\n",
    "\n",
    "When using WHFast, the order of adding objects matters. Since WHFast use Jacobi coordinate, we must first add the inner object. \n",
    "\n",
    "For convenience, you may also add the objects in any order, and then call `system.sort_by_distance(primary_object_name)` or `system.sort_by_distance(primary_object_index)`"
   ]
  },
  {
   "cell_type": "code",
   "execution_count": null,
   "metadata": {},
   "outputs": [],
   "source": [
    "WHFast_system = grav_sim.create_system()\n",
    "grav_sim.set_current_system(WHFast_system)\n",
    "WHFast_system.load(\"solar_system\")\n",
    "\n",
    "# Shuffle the system for demonstration\n",
    "indices = np.arange(WHFast_system.objects_count, dtype=int)\n",
    "np.random.shuffle(indices)\n",
    "WHFast_system.x = WHFast_system.x[indices]\n",
    "WHFast_system.v = WHFast_system.v[indices]\n",
    "WHFast_system.m = WHFast_system.m[indices]\n",
    "WHFast_system.objects_names = list(np.array(WHFast_system.objects_names)[indices])\n",
    "\n",
    "print(f\"Shuffled: {WHFast_system.objects_names}\")\n",
    "\n",
    "WHFast_system.sort_by_distance(primary_object_name=\"Sun\")\n",
    "\n",
    "print(f\"Sorted: {WHFast_system.objects_names}\")"
   ]
  },
  {
   "cell_type": "markdown",
   "metadata": {},
   "source": [
    "Simulating the solar system with WHFast"
   ]
  },
  {
   "cell_type": "code",
   "execution_count": null,
   "metadata": {},
   "outputs": [],
   "source": [
    "grav_sim.launch_simulation(\n",
    "    integrator=\"WHFast\",\n",
    "    tf=grav_sim.years_to_days(1000.0),\n",
    "    dt=grav_sim.years_to_days(0.003),\n",
    "    store_every_n=10,\n",
    ")\n",
    "\n",
    "grav_sim.plot_2d_trajectory(\n",
    "    legend=True,\n",
    "    labels=WHFast_system.objects_names,\n",
    ")\n",
    "grav_sim.plot_rel_energy()"
   ]
  },
  {
   "cell_type": "markdown",
   "metadata": {},
   "source": [
    "You may run the following code block to see what happens when we don't sort the order by distance, but\n",
    "note that the program may get stuck."
   ]
  },
  {
   "cell_type": "code",
   "execution_count": null,
   "metadata": {},
   "outputs": [],
   "source": [
    "\"\"\"\n",
    "WHFast_system = grav_sim.create_system()\n",
    "grav_sim.set_current_system(WHFast_system)\n",
    "WHFast_system.load(\"solar_system\")\n",
    "\n",
    "# Shuffle the system for demonstration\n",
    "indices = np.arange(WHFast_system.objects_count, dtype=int)\n",
    "np.random.shuffle(indices)\n",
    "WHFast_system.x = WHFast_system.x[indices]\n",
    "WHFast_system.v = WHFast_system.v[indices]\n",
    "WHFast_system.m = WHFast_system.m[indices]\n",
    "WHFast_system.objects_names = np.array(WHFast_system.objects_names)[indices]\n",
    "\n",
    "print(WHFast_system.objects_names)\n",
    "\n",
    "grav_sim.launch_simulation(\n",
    "    integrator=\"WHFast\",\n",
    "    tf=grav_sim.years_to_days(300.0),\n",
    "    dt=grav_sim.years_to_days(0.003),\n",
    "    store_every_n=10,\n",
    ")\n",
    "\n",
    "grav_sim.plot_2d_trajectory(\n",
    "    legend=True,\n",
    "    labels=WHFast_system.objects_names,\n",
    ")\n",
    "grav_sim.plot_rel_energy()\n",
    "\"\"\""
   ]
  },
  {
   "cell_type": "markdown",
   "metadata": {},
   "source": [
    "# END\n",
    "Here is the end of the tutorial. Check out other projects in the `examples` folder for more advanced use of this library.\n",
    "* `solar_system_one_mil_yrs.ipynb`\n",
    "* `asteroid_belt_animation.py`\n",
    "* `kirkwood_gap.py`"
   ]
  }
 ],
 "metadata": {
  "kernelspec": {
   "display_name": "Python 3",
   "language": "python",
   "name": "python3"
  },
  "language_info": {
   "codemirror_mode": {
    "name": "ipython",
    "version": 3
   },
   "file_extension": ".py",
   "mimetype": "text/x-python",
   "name": "python",
   "nbconvert_exporter": "python",
   "pygments_lexer": "ipython3",
   "version": "3.11.4"
  }
 },
 "nbformat": 4,
 "nbformat_minor": 2
}
